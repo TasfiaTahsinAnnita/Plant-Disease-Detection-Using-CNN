{
  "cells": [
    {
      "cell_type": "markdown",
      "metadata": {
        "id": "u2DEKUaEzHGb"
      },
      "source": [
        "Importing All the Necessary Libraries"
      ]
    },
    {
      "cell_type": "code",
      "execution_count": null,
      "metadata": {
        "id": "8I7OHoh7xhke"
      },
      "outputs": [],
      "source": [
        "import numpy as np\n",
        "import pandas as pd\n",
        "import matplotlib.pyplot as plt\n",
        "import pickle\n",
        "import torch\n",
        "from torchvision import datasets, transforms, models\n",
        "from torch.utils.data.sampler import SubsetRandomSampler\n",
        "import torch.nn as nn\n",
        "import torch.nn.functional as F\n",
        "from datetime import datetime\n",
        "import shutil\n",
        "from google.colab import drive\n",
        "import torchvision.transforms.functional as TF\n",
        "from PIL import Image"
      ]
    },
    {
      "cell_type": "markdown",
      "metadata": {
        "id": "T5qUXjUZzNQD"
      },
      "source": [
        "Mounting Google Drive"
      ]
    },
    {
      "cell_type": "code",
      "execution_count": null,
      "metadata": {
        "colab": {
          "base_uri": "https://localhost:8080/"
        },
        "id": "pQCk444sygLT",
        "outputId": "09898871-b84f-47ba-e190-d6dfc5fc7de0"
      },
      "outputs": [
        {
          "name": "stdout",
          "output_type": "stream",
          "text": [
            "Mounted at /content/drive\n"
          ]
        }
      ],
      "source": [
        "drive.mount('/content/drive')"
      ]
    },
    {
      "cell_type": "markdown",
      "metadata": {
        "id": "DhnnmXNpzQ_r"
      },
      "source": [
        "Defining the path of the dataset"
      ]
    },
    {
      "cell_type": "code",
      "execution_count": null,
      "metadata": {
        "colab": {
          "base_uri": "https://localhost:8080/",
          "height": 35
        },
        "id": "b7E2d2fwxprP",
        "outputId": "e92754a0-bc3e-48ab-c64c-52c8f03e782d"
      },
      "outputs": [
        {
          "data": {
            "application/vnd.google.colaboratory.intrinsic+json": {
              "type": "string"
            },
            "text/plain": [
              "'/content/dataset5'"
            ]
          },
          "execution_count": 4,
          "metadata": {},
          "output_type": "execute_result"
        }
      ],
      "source": [
        "google_drive_path = '/content/drive/MyDrive/366 Dataset/Plant_leave_diseases_dataset_without_augmentation'\n",
        "colab_path = '/content/dataset5'\n",
        "shutil.copytree(google_drive_path, colab_path)"
      ]
    },
    {
      "cell_type": "markdown",
      "metadata": {
        "id": "cSofsotIzbcH"
      },
      "source": [
        "Unzip if Needed"
      ]
    },
    {
      "cell_type": "code",
      "execution_count": null,
      "metadata": {
        "colab": {
          "base_uri": "https://localhost:8080/"
        },
        "id": "RkHYUSnCxrcm",
        "outputId": "7283bd6e-db79-4625-bca9-340cd625cc24"
      },
      "outputs": [
        {
          "name": "stdout",
          "output_type": "stream",
          "text": [
            "unzip:  cannot find or open /content/drive/MyDrive/dataset1.zip, /content/drive/MyDrive/dataset1.zip.zip or /content/drive/MyDrive/dataset1.zip.ZIP.\n"
          ]
        }
      ],
      "source": [
        "!unzip -q /content/drive/MyDrive/dataset1.zip -d /content/"
      ]
    },
    {
      "cell_type": "markdown",
      "metadata": {
        "id": "GTW2Ev17z0Lz"
      },
      "source": [
        "Resize the image"
      ]
    },
    {
      "cell_type": "code",
      "execution_count": null,
      "metadata": {
        "id": "bAAxOU-DxtsQ"
      },
      "outputs": [],
      "source": [
        "transform = transforms.Compose([\n",
        "    transforms.Resize((224, 224)),  # Resize the image to 224x224\n",
        "    transforms.ToTensor(),           # Convert to tensor\n",
        "    transforms.Normalize(            # Normalize the image\n",
        "        mean=[0.485, 0.456, 0.406],\n",
        "        std=[0.229, 0.224, 0.225]\n",
        "    )\n",
        "])"
      ]
    },
    {
      "cell_type": "code",
      "execution_count": null,
      "metadata": {
        "colab": {
          "base_uri": "https://localhost:8080/"
        },
        "id": "yEmrbxeNxvr_",
        "outputId": "6f395fa9-3cca-42e9-cab6-6328a36f472b"
      },
      "outputs": [
        {
          "name": "stdout",
          "output_type": "stream",
          "text": [
            "Number of classes: 39\n"
          ]
        }
      ],
      "source": [
        "dataset = datasets.ImageFolder(colab_path, transform=transform)\n",
        "print(\"Number of classes:\", len(dataset.classes))"
      ]
    },
    {
      "cell_type": "code",
      "execution_count": null,
      "metadata": {
        "colab": {
          "base_uri": "https://localhost:8080/"
        },
        "id": "RXSDV6YPxxdv",
        "outputId": "03311800-4526-430c-c3ba-59090bfa099f"
      },
      "outputs": [
        {
          "name": "stdout",
          "output_type": "stream",
          "text": [
            "Total dataset size: 45307\n",
            "Classes: ['Apple___Apple_scab', 'Apple___Black_rot', 'Apple___Cedar_apple_rust', 'Apple___healthy', 'Background_without_leaves', 'Blueberry___healthy', 'Cherry___Powdery_mildew', 'Cherry___healthy', 'Corn___Cercospora_leaf_spot Gray_leaf_spot', 'Corn___Common_rust', 'Corn___Northern_Leaf_Blight', 'Corn___healthy', 'Grape___Black_rot', 'Grape___Esca_(Black_Measles)', 'Grape___Leaf_blight_(Isariopsis_Leaf_Spot)', 'Grape___healthy', 'Orange___Haunglongbing_(Citrus_greening)', 'Peach___Bacterial_spot', 'Peach___healthy', 'Pepper,_bell___Bacterial_spot', 'Pepper,_bell___healthy', 'Potato___Early_blight', 'Potato___Late_blight', 'Potato___healthy', 'Raspberry___healthy', 'Soybean___healthy', 'Squash___Powdery_mildew', 'Strawberry___Leaf_scorch', 'Strawberry___healthy', 'Tomato___Bacterial_spot', 'Tomato___Early_blight', 'Tomato___Late_blight', 'Tomato___Leaf_Mold', 'Tomato___Septoria_leaf_spot', 'Tomato___Spider_mites Two-spotted_spider_mite', 'Tomato___Target_Spot', 'Tomato___Tomato_Yellow_Leaf_Curl_Virus', 'Tomato___Tomato_mosaic_virus', 'Tomato___healthy']\n"
          ]
        }
      ],
      "source": [
        "print(f\"Total dataset size: {len(dataset)}\")\n",
        "print(f\"Classes: {dataset.classes}\")"
      ]
    },
    {
      "cell_type": "code",
      "execution_count": null,
      "metadata": {
        "id": "fjxTVABxx5qP"
      },
      "outputs": [],
      "source": [
        "indices = list(range(len(dataset)))\n",
        "split = int(np.floor(0.85 * len(dataset)))  # train_size\n",
        "validation = int(np.floor(0.70 * split))  # validation\n",
        "np.random.shuffle(indices)\n",
        "train_indices, validation_indices, test_indices = (\n",
        "    indices[:validation],\n",
        "    indices[validation:split],\n",
        "    indices[split:],\n",
        ")"
      ]
    },
    {
      "cell_type": "code",
      "execution_count": null,
      "metadata": {
        "id": "azz0uJdax7lH"
      },
      "outputs": [],
      "source": [
        "train_sampler = SubsetRandomSampler(train_indices)\n",
        "validation_sampler = SubsetRandomSampler(validation_indices)\n",
        "test_sampler = SubsetRandomSampler(test_indices)"
      ]
    },
    {
      "cell_type": "code",
      "execution_count": null,
      "metadata": {
        "id": "-ZZTLZfxx7nf"
      },
      "outputs": [],
      "source": [
        "class CNN(nn.Module):\n",
        "    def __init__(self, K):\n",
        "        super(CNN, self).__init__()\n",
        "        self.conv_layers = nn.Sequential(\n",
        "            nn.Conv2d(in_channels=3, out_channels=32, kernel_size=3, padding=1),\n",
        "            nn.ReLU(),\n",
        "            nn.BatchNorm2d(32),\n",
        "            nn.Conv2d(in_channels=32, out_channels=32, kernel_size=3, padding=1),\n",
        "            nn.ReLU(),\n",
        "            nn.BatchNorm2d(32),\n",
        "            nn.MaxPool2d(2),\n",
        "            nn.Conv2d(in_channels=32, out_channels=64, kernel_size=3, padding=1),\n",
        "            nn.ReLU(),\n",
        "            nn.BatchNorm2d(64),\n",
        "            nn.Conv2d(in_channels=64, out_channels=64, kernel_size=3, padding=1),\n",
        "            nn.ReLU(),\n",
        "            nn.BatchNorm2d(64),\n",
        "            nn.MaxPool2d(2),\n",
        "            nn.Conv2d(in_channels=64, out_channels=128, kernel_size=3, padding=1),\n",
        "            nn.ReLU(),\n",
        "            nn.BatchNorm2d(128),\n",
        "            nn.Conv2d(in_channels=128, out_channels=128, kernel_size=3, padding=1),\n",
        "            nn.ReLU(),\n",
        "            nn.BatchNorm2d(128),\n",
        "            nn.MaxPool2d(2),\n",
        "            nn.Conv2d(in_channels=128, out_channels=256, kernel_size=3, padding=1),\n",
        "            nn.ReLU(),\n",
        "            nn.BatchNorm2d(256),\n",
        "            nn.Conv2d(in_channels=256, out_channels=256, kernel_size=3, padding=1),\n",
        "            nn.ReLU(),\n",
        "            nn.BatchNorm2d(256),\n",
        "            nn.MaxPool2d(2),\n",
        "        )\n",
        "        self.dense_layers = nn.Sequential(\n",
        "            nn.Dropout(0.4),\n",
        "            nn.Linear(50176, 1024),\n",
        "            nn.ReLU(),\n",
        "            nn.Dropout(0.4),\n",
        "            nn.Linear(1024, K),\n",
        "        )\n",
        "\n",
        "    def forward(self, X):\n",
        "        out = self.conv_layers(X)\n",
        "        out = out.view(-1, 50176)\n",
        "        out = self.dense_layers(out)\n",
        "        return out"
      ]
    },
    {
      "cell_type": "code",
      "execution_count": null,
      "metadata": {
        "colab": {
          "base_uri": "https://localhost:8080/"
        },
        "id": "-Lj10gC7x7qT",
        "outputId": "d401c96e-36ad-4598-96f2-688a1bd6b30e"
      },
      "outputs": [
        {
          "name": "stdout",
          "output_type": "stream",
          "text": [
            "Using device: cuda\n"
          ]
        }
      ],
      "source": [
        "def check_gradients(model):\n",
        "    grads = []\n",
        "    for param in model.parameters():\n",
        "        if param.grad is not None:\n",
        "            grads.append(param.grad.abs().sum().item())\n",
        "    return np.sum(grads)\n",
        "\n",
        "device = torch.device(\"cuda\" if torch.cuda.is_available() else \"cpu\")\n",
        "print(f\"Using device: {device}\")"
      ]
    },
    {
      "cell_type": "code",
      "execution_count": null,
      "metadata": {
        "colab": {
          "base_uri": "https://localhost:8080/"
        },
        "id": "JlElCu3CN5Qd",
        "outputId": "6fb77ec6-b8c8-4a3d-af8c-2dfe34bcc5f4"
      },
      "outputs": [
        {
          "data": {
            "text/plain": [
              "CNN(\n",
              "  (conv_layers): Sequential(\n",
              "    (0): Conv2d(3, 32, kernel_size=(3, 3), stride=(1, 1), padding=(1, 1))\n",
              "    (1): ReLU()\n",
              "    (2): BatchNorm2d(32, eps=1e-05, momentum=0.1, affine=True, track_running_stats=True)\n",
              "    (3): Conv2d(32, 32, kernel_size=(3, 3), stride=(1, 1), padding=(1, 1))\n",
              "    (4): ReLU()\n",
              "    (5): BatchNorm2d(32, eps=1e-05, momentum=0.1, affine=True, track_running_stats=True)\n",
              "    (6): MaxPool2d(kernel_size=2, stride=2, padding=0, dilation=1, ceil_mode=False)\n",
              "    (7): Conv2d(32, 64, kernel_size=(3, 3), stride=(1, 1), padding=(1, 1))\n",
              "    (8): ReLU()\n",
              "    (9): BatchNorm2d(64, eps=1e-05, momentum=0.1, affine=True, track_running_stats=True)\n",
              "    (10): Conv2d(64, 64, kernel_size=(3, 3), stride=(1, 1), padding=(1, 1))\n",
              "    (11): ReLU()\n",
              "    (12): BatchNorm2d(64, eps=1e-05, momentum=0.1, affine=True, track_running_stats=True)\n",
              "    (13): MaxPool2d(kernel_size=2, stride=2, padding=0, dilation=1, ceil_mode=False)\n",
              "    (14): Conv2d(64, 128, kernel_size=(3, 3), stride=(1, 1), padding=(1, 1))\n",
              "    (15): ReLU()\n",
              "    (16): BatchNorm2d(128, eps=1e-05, momentum=0.1, affine=True, track_running_stats=True)\n",
              "    (17): Conv2d(128, 128, kernel_size=(3, 3), stride=(1, 1), padding=(1, 1))\n",
              "    (18): ReLU()\n",
              "    (19): BatchNorm2d(128, eps=1e-05, momentum=0.1, affine=True, track_running_stats=True)\n",
              "    (20): MaxPool2d(kernel_size=2, stride=2, padding=0, dilation=1, ceil_mode=False)\n",
              "    (21): Conv2d(128, 256, kernel_size=(3, 3), stride=(1, 1), padding=(1, 1))\n",
              "    (22): ReLU()\n",
              "    (23): BatchNorm2d(256, eps=1e-05, momentum=0.1, affine=True, track_running_stats=True)\n",
              "    (24): Conv2d(256, 256, kernel_size=(3, 3), stride=(1, 1), padding=(1, 1))\n",
              "    (25): ReLU()\n",
              "    (26): BatchNorm2d(256, eps=1e-05, momentum=0.1, affine=True, track_running_stats=True)\n",
              "    (27): MaxPool2d(kernel_size=2, stride=2, padding=0, dilation=1, ceil_mode=False)\n",
              "  )\n",
              "  (dense_layers): Sequential(\n",
              "    (0): Dropout(p=0.4, inplace=False)\n",
              "    (1): Linear(in_features=50176, out_features=1024, bias=True)\n",
              "    (2): ReLU()\n",
              "    (3): Dropout(p=0.4, inplace=False)\n",
              "    (4): Linear(in_features=1024, out_features=39, bias=True)\n",
              "  )\n",
              ")"
            ]
          },
          "execution_count": 13,
          "metadata": {},
          "output_type": "execute_result"
        }
      ],
      "source": [
        "targets_size = len(dataset.class_to_idx)\n",
        "model = CNN(targets_size)\n",
        "model.to(device)"
      ]
    },
    {
      "cell_type": "code",
      "execution_count": null,
      "metadata": {
        "colab": {
          "base_uri": "https://localhost:8080/"
        },
        "id": "_nFe9RN9x7s_",
        "outputId": "d4980193-e805-4ab1-cc40-0433253afd87"
      },
      "outputs": [
        {
          "name": "stdout",
          "output_type": "stream",
          "text": [
            "----------------------------------------------------------------\n",
            "        Layer (type)               Output Shape         Param #\n",
            "================================================================\n",
            "            Conv2d-1         [-1, 32, 224, 224]             896\n",
            "              ReLU-2         [-1, 32, 224, 224]               0\n",
            "       BatchNorm2d-3         [-1, 32, 224, 224]              64\n",
            "            Conv2d-4         [-1, 32, 224, 224]           9,248\n",
            "              ReLU-5         [-1, 32, 224, 224]               0\n",
            "       BatchNorm2d-6         [-1, 32, 224, 224]              64\n",
            "         MaxPool2d-7         [-1, 32, 112, 112]               0\n",
            "            Conv2d-8         [-1, 64, 112, 112]          18,496\n",
            "              ReLU-9         [-1, 64, 112, 112]               0\n",
            "      BatchNorm2d-10         [-1, 64, 112, 112]             128\n",
            "           Conv2d-11         [-1, 64, 112, 112]          36,928\n",
            "             ReLU-12         [-1, 64, 112, 112]               0\n",
            "      BatchNorm2d-13         [-1, 64, 112, 112]             128\n",
            "        MaxPool2d-14           [-1, 64, 56, 56]               0\n",
            "           Conv2d-15          [-1, 128, 56, 56]          73,856\n",
            "             ReLU-16          [-1, 128, 56, 56]               0\n",
            "      BatchNorm2d-17          [-1, 128, 56, 56]             256\n",
            "           Conv2d-18          [-1, 128, 56, 56]         147,584\n",
            "             ReLU-19          [-1, 128, 56, 56]               0\n",
            "      BatchNorm2d-20          [-1, 128, 56, 56]             256\n",
            "        MaxPool2d-21          [-1, 128, 28, 28]               0\n",
            "           Conv2d-22          [-1, 256, 28, 28]         295,168\n",
            "             ReLU-23          [-1, 256, 28, 28]               0\n",
            "      BatchNorm2d-24          [-1, 256, 28, 28]             512\n",
            "           Conv2d-25          [-1, 256, 28, 28]         590,080\n",
            "             ReLU-26          [-1, 256, 28, 28]               0\n",
            "      BatchNorm2d-27          [-1, 256, 28, 28]             512\n",
            "        MaxPool2d-28          [-1, 256, 14, 14]               0\n",
            "          Dropout-29                [-1, 50176]               0\n",
            "           Linear-30                 [-1, 1024]      51,381,248\n",
            "             ReLU-31                 [-1, 1024]               0\n",
            "          Dropout-32                 [-1, 1024]               0\n",
            "           Linear-33                   [-1, 39]          39,975\n",
            "================================================================\n",
            "Total params: 52,595,399\n",
            "Trainable params: 52,595,399\n",
            "Non-trainable params: 0\n",
            "----------------------------------------------------------------\n",
            "Input size (MB): 0.57\n",
            "Forward/backward pass size (MB): 143.96\n",
            "Params size (MB): 200.64\n",
            "Estimated Total Size (MB): 345.17\n",
            "----------------------------------------------------------------\n"
          ]
        }
      ],
      "source": [
        "from torchsummary import summary\n",
        "summary(model, (3, 224, 224))\n",
        "criterion = nn.CrossEntropyLoss()  # this includes softmax + cross entropy loss\n",
        "optimizer = torch.optim.Adam(model.parameters())"
      ]
    },
    {
      "cell_type": "code",
      "execution_count": null,
      "metadata": {
        "id": "TXPfGqGzx7vh"
      },
      "outputs": [],
      "source": [
        "def batch_gd(model, criterion, train_loader, validation_loader, epochs):\n",
        "    train_losses = np.zeros(epochs)\n",
        "    validation_losses = np.zeros(epochs)\n",
        "\n",
        "    for e in range(epochs):\n",
        "        t0 = datetime.now()\n",
        "        train_loss = []\n",
        "        model.train()  # Ensure model is in training mode\n",
        "        for inputs, targets in train_loader:\n",
        "            inputs, targets = inputs.to(device), targets.to(device)\n",
        "            optimizer.zero_grad()\n",
        "            output = model(inputs)\n",
        "            loss = criterion(output, targets)\n",
        "            train_loss.append(loss.item())\n",
        "            loss.backward()\n",
        "            optimizer.step()\n",
        "        train_loss = np.mean(train_loss)\n",
        "        validation_loss = []\n",
        "        model.eval()  # Ensure model is in evaluation mode\n",
        "        with torch.no_grad():\n",
        "            for inputs, targets in validation_loader:\n",
        "                inputs, targets = inputs.to(device), targets.to(device)\n",
        "                output = model(inputs)\n",
        "                loss = criterion(output, targets)\n",
        "                validation_loss.append(loss.item())\n",
        "        validation_loss = np.mean(validation_loss)\n",
        "        train_losses[e] = train_loss\n",
        "        validation_losses[e] = validation_loss\n",
        "        dt = datetime.now() - t0\n",
        "        print(f\"Epoch: {e+1}/{epochs} Train_loss: {train_loss:.3f} Validation_loss: {validation_loss:.3f} Duration: {dt}\")\n",
        "    return train_losses, validation_losses"
      ]
    },
    {
      "cell_type": "code",
      "execution_count": null,
      "metadata": {
        "colab": {
          "base_uri": "https://localhost:8080/"
        },
        "id": "wB0O1GBYx7yI",
        "outputId": "387e598e-69af-488e-9f6f-6f8b89e6d2f9"
      },
      "outputs": [
        {
          "name": "stdout",
          "output_type": "stream",
          "text": [
            "Initial gradient sum: 0.0\n"
          ]
        }
      ],
      "source": [
        "initial_grad_sum = check_gradients(model)\n",
        "print(f\"Initial gradient sum: {initial_grad_sum}\")"
      ]
    },
    {
      "cell_type": "code",
      "execution_count": null,
      "metadata": {
        "id": "mL4eggQNx70t"
      },
      "outputs": [],
      "source": [
        "batch_size = 64\n",
        "train_loader = torch.utils.data.DataLoader(dataset, batch_size=batch_size, sampler=train_sampler)\n",
        "validation_loader = torch.utils.data.DataLoader(dataset, batch_size=batch_size, sampler=validation_sampler)\n",
        "test_loader = torch.utils.data.DataLoader(dataset, batch_size=batch_size, sampler=test_sampler)"
      ]
    },
    {
      "cell_type": "code",
      "execution_count": null,
      "metadata": {
        "colab": {
          "background_save": true,
          "base_uri": "https://localhost:8080/"
        },
        "id": "lqyrVe48yN62",
        "outputId": "708bc0a5-55d7-4000-8116-50c9cfd8b588"
      },
      "outputs": [
        {
          "name": "stdout",
          "output_type": "stream",
          "text": [
            "Epoch: 1/5 Train_loss: 0.429 Validation_loss: 0.301 Duration: 0:03:33.404482\n",
            "Epoch: 2/5 Train_loss: 0.381 Validation_loss: 0.318 Duration: 0:03:32.737165\n",
            "Epoch: 3/5 Train_loss: 0.359 Validation_loss: 0.297 Duration: 0:03:33.231825\n",
            "Epoch: 4/5 Train_loss: 0.330 Validation_loss: 0.331 Duration: 0:03:33.587551\n",
            "Epoch: 5/5 Train_loss: 0.287 Validation_loss: 0.314 Duration: 0:03:33.413228\n"
          ]
        }
      ],
      "source": [
        "train_losses, validation_losses = batch_gd(model, criterion, train_loader, validation_loader, 5)\n",
        "torch.save(model.state_dict(), '/content/drive/MyDrive/Trained Models/trained_last.pt')"
      ]
    },
    {
      "cell_type": "code",
      "execution_count": null,
      "metadata": {
        "id": "PxWi04-xyQDc"
      },
      "outputs": [],
      "source": [
        "plt.plot(train_losses, label='train_loss')\n",
        "plt.plot(validation_losses, label='validation_loss')\n",
        "plt.xlabel('Number of Epochs')\n",
        "plt.ylabel('Loss')\n",
        "plt.legend()\n",
        "plt.show()"
      ]
    },
    {
      "cell_type": "code",
      "execution_count": null,
      "metadata": {
        "id": "BF2ebD22yStM"
      },
      "outputs": [],
      "source": [
        "def accuracy(loader, model, device):\n",
        "    model.eval()\n",
        "    n_correct = 0\n",
        "    n_total = 0\n",
        "    with torch.no_grad():\n",
        "        for inputs, targets in loader:\n",
        "            inputs, targets = inputs.to(device), targets.to(device)\n",
        "            outputs = model(inputs)\n",
        "            _, predictions = torch.max(outputs, 1)\n",
        "            n_correct += (predictions == targets).sum().item()\n",
        "            n_total += targets.shape[0]\n",
        "    return n_correct / n_total\n"
      ]
    },
    {
      "cell_type": "code",
      "execution_count": null,
      "metadata": {
        "colab": {
          "background_save": true,
          "base_uri": "https://localhost:8080/"
        },
        "id": "EpF14a13OqL8",
        "outputId": "f33c992a-f78e-4ed5-86ff-db25f6633525"
      },
      "outputs": [
        {
          "name": "stdout",
          "output_type": "stream",
          "text": [
            "Train Accuracy: 0.969173127573543\n",
            "Test Accuracy: 0.9208474326908931\n",
            "Validation Accuracy: 0.9265991517354799\n"
          ]
        }
      ],
      "source": [
        "train_acc = accuracy(train_loader, model, device)\n",
        "test_acc = accuracy(test_loader, model, device)\n",
        "validation_acc = accuracy(validation_loader, model, device)\n",
        "print(f\"Train Accuracy: {train_acc}\\nTest Accuracy: {test_acc}\\nValidation Accuracy: {validation_acc}\")"
      ]
    },
    {
      "cell_type": "code",
      "execution_count": null,
      "metadata": {
        "id": "RjpjFRx0iDUW"
      },
      "outputs": [],
      "source": [
        "from sklearn.metrics import confusion_matrix, ConfusionMatrixDisplay\n",
        "import seaborn as sns\n",
        "\n",
        "def plot_confusion_matrix(loader, model, device, classes):\n",
        "    model.eval()\n",
        "    all_preds = []\n",
        "    all_targets = []\n",
        "\n",
        "    with torch.no_grad():\n",
        "        for inputs, targets in loader:\n",
        "            inputs, targets = inputs.to(device), targets.to(device)\n",
        "            outputs = model(inputs)\n",
        "            _, predictions = torch.max(outputs, 1)\n",
        "            all_preds.extend(predictions.cpu().numpy())\n",
        "            all_targets.extend(targets.cpu().numpy())\n",
        "\n",
        "    cm = confusion_matrix(all_targets, all_preds)\n",
        "    disp = ConfusionMatrixDisplay(confusion_matrix=cm, display_labels=classes)\n",
        "    disp.plot(cmap=plt.cm.Blues)\n",
        "    plt.xticks(rotation=90)\n",
        "    plt.show()\n",
        "\n",
        "# Plot confusion matrix for test data\n",
        "plot_confusion_matrix(test_loader, model, device, dataset.classes)"
      ]
    },
    {
      "cell_type": "code",
      "execution_count": null,
      "metadata": {
        "id": "b2wY-JflyVoF"
      },
      "outputs": [],
      "source": [
        "def single_prediction(image_path, model, data, device):\n",
        "    model.eval()\n",
        "    image = Image.open(image_path)\n",
        "    image = image.resize((224, 224))\n",
        "    input_data = TF.to_tensor(image).unsqueeze(0).to(device)\n",
        "    with torch.no_grad():\n",
        "        output = model(input_data)\n",
        "    index = torch.argmax(output, dim=1).item()\n",
        "    print(\"Original:\", image_path[12:-4])\n",
        "    pred_csv = data[\"disease_name\"][index]\n",
        "    print(pred_csv)"
      ]
    },
    {
      "cell_type": "code",
      "execution_count": null,
      "metadata": {
        "id": "Rht9NrhPyXht"
      },
      "outputs": [],
      "source": [
        "data = pd.read_csv(\"/content/drive/MyDrive/dtset2/disease_info.csv\", encoding=\"cp1252\")"
      ]
    },
    {
      "cell_type": "code",
      "execution_count": null,
      "metadata": {
        "id": "LYnsCsOJOz-e"
      },
      "outputs": [],
      "source": [
        "single_prediction(\"/content/drive/MyDrive/dtset2/test_images/Cheryy_Powdery_Mildew.JPG\", model, data, device)"
      ]
    },
    {
      "cell_type": "code",
      "execution_count": null,
      "metadata": {
        "id": "Z1K7u6hko_3v"
      },
      "outputs": [],
      "source": [
        "single_prediction(\"/content/drive/MyDrive/dtset2/test_images/Apple_ceder_apple_rust.JPG\")"
      ]
    },
    {
      "cell_type": "code",
      "execution_count": null,
      "metadata": {
        "id": "Dph9Gtzbo_63"
      },
      "outputs": [],
      "source": [
        "single_prediction(\"/content/drive/MyDrive/dtset2/test_images/Apple_scab.JPG\")"
      ]
    },
    {
      "cell_type": "code",
      "execution_count": null,
      "metadata": {
        "id": "XFwgZqgLo_9X"
      },
      "outputs": [],
      "source": [
        "single_prediction(\"/content/drive/MyDrive/dtset2/test_images/Grape_esca.JPG\")"
      ]
    },
    {
      "cell_type": "code",
      "execution_count": null,
      "metadata": {
        "id": "fRm0Sd_1pAAK"
      },
      "outputs": [],
      "source": [
        "single_prediction(\"/content/drive/MyDrive/dtset2/test_images/apple_black_rot.JPG\")"
      ]
    },
    {
      "cell_type": "code",
      "execution_count": null,
      "metadata": {
        "id": "wx-wTYx8pADO"
      },
      "outputs": [],
      "source": [
        "single_prediction(\"/content/drive/MyDrive/dtset2/test_images/apple_healthy.JPG\")"
      ]
    },
    {
      "cell_type": "code",
      "execution_count": null,
      "metadata": {
        "id": "dfBe2X0rpAF9"
      },
      "outputs": [],
      "source": [
        "single_prediction(\"/content/drive/MyDrive/dtset2/test_images/background_without_leaves.jpg\")"
      ]
    },
    {
      "cell_type": "code",
      "execution_count": null,
      "metadata": {
        "id": "fbyb7v5dpAIv"
      },
      "outputs": [],
      "source": [
        "single_prediction(\"/content/drive/MyDrive/dtset2/test_images/blueberry_healthy.JPG\")\n"
      ]
    },
    {
      "cell_type": "code",
      "execution_count": null,
      "metadata": {
        "id": "zXTb1k3zpALd"
      },
      "outputs": [],
      "source": [
        "single_prediction(\"/content/drive/MyDrive/dtset2/test_images/cherry_healthy.JPG\")"
      ]
    },
    {
      "cell_type": "code",
      "execution_count": null,
      "metadata": {
        "id": "AAr8ofcapAOV"
      },
      "outputs": [],
      "source": [
        "single_prediction(\"/content/drive/MyDrive/dtset2/test_images/cherry_powdery_mildew.JPG\")\n"
      ]
    },
    {
      "cell_type": "code",
      "execution_count": null,
      "metadata": {
        "id": "cUf9dNDgpAQi"
      },
      "outputs": [],
      "source": [
        "single_prediction(\"/content/drive/MyDrive/dtset2/test_images/corn_cercospora_leaf.JPG\")"
      ]
    },
    {
      "cell_type": "code",
      "execution_count": null,
      "metadata": {
        "id": "32Qs-Y3Xpwdk"
      },
      "outputs": [],
      "source": [
        "single_prediction(\"/content/drive/MyDrive/dtset2/test_images/corn_common_rust.JPG\")"
      ]
    },
    {
      "cell_type": "code",
      "execution_count": null,
      "metadata": {
        "id": "-N0XqJYgpzE9"
      },
      "outputs": [],
      "source": [
        "single_prediction(\"/content/drive/MyDrive/dtset2/test_images/corn_common_rust.JPG\")\n"
      ]
    },
    {
      "cell_type": "code",
      "execution_count": null,
      "metadata": {
        "id": "xClREP9Sp1i3"
      },
      "outputs": [],
      "source": [
        "single_prediction(\"/content/drive/MyDrive/dtset2/test_images/corn_healthy.jpg\")\n"
      ]
    },
    {
      "cell_type": "code",
      "execution_count": null,
      "metadata": {
        "id": "P4tJqbBAp1lm"
      },
      "outputs": [],
      "source": [
        "single_prediction(\"/content/drive/MyDrive/dtset2/test_images/corn_northen_leaf_blight.JPG\")\n",
        "\n"
      ]
    },
    {
      "cell_type": "code",
      "execution_count": null,
      "metadata": {
        "id": "TZvd74H4p1ov"
      },
      "outputs": [],
      "source": [
        "single_prediction(\"/content/drive/MyDrive/dtset2/test_images/grape_black_rot.JPG\")"
      ]
    },
    {
      "cell_type": "code",
      "execution_count": null,
      "metadata": {
        "id": "3JY-nBWAp1rp"
      },
      "outputs": [],
      "source": [
        "single_prediction(\"/content/drive/MyDrive/dtset2/test_images/grape_healthy.JPG\")\n"
      ]
    },
    {
      "cell_type": "code",
      "execution_count": null,
      "metadata": {
        "id": "y_gzF0OIp1uN"
      },
      "outputs": [],
      "source": [
        "single_prediction(\"/content/drive/MyDrive/dtset2/test_images/grape_leaf_blight.JPG\")\n"
      ]
    },
    {
      "cell_type": "code",
      "execution_count": null,
      "metadata": {
        "id": "9c9xogEWp1xG"
      },
      "outputs": [],
      "source": [
        "single_prediction(\"/content/drive/MyDrive/dtset2/test_images/orange_haunglongbing.JPG\")\n"
      ]
    }
  ],
  "metadata": {
    "accelerator": "GPU",
    "colab": {
      "gpuType": "T4",
      "provenance": []
    },
    "kernelspec": {
      "display_name": "Python 3",
      "name": "python3"
    },
    "language_info": {
      "name": "python"
    }
  },
  "nbformat": 4,
  "nbformat_minor": 0
}